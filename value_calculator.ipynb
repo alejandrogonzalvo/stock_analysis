{
 "cells": [
  {
   "cell_type": "markdown",
   "id": "f400ba6b",
   "metadata": {},
   "source": [
    "# Value Calculator\n",
    "*by Alejandro Gonzalvo*\n",
    "___\n",
    "    "
   ]
  },
  {
   "cell_type": "code",
   "execution_count": 23,
   "id": "3546284f",
   "metadata": {},
   "outputs": [
    {
     "name": "stdout",
     "output_type": "stream",
     "text": [
      "5.11\n"
     ]
    }
   ],
   "source": [
    "import requests\n",
    "\n",
    "url = 'https://www.alphavantage.co/query'\n",
    "params = {'function' : 'EARNINGS', 'symbol' : 'AAPL', 'apikey' : 'GG1T2SZYHRW1Q3IE'}\n",
    "\n",
    "r = requests.get(url, params = params)\n",
    "data = r.json()\n",
    "\n",
    "ttm_eps = 0\n",
    "for quarter in data['quarterlyEarnings'][:4]:\n",
    "    eps = float(quarter['reportedEPS'])\n",
    "    ttm_eps += eps\n",
    "    \n",
    "ttm_eps = round(ttm_eps, 2)\n",
    "print(ttm_eps)"
   ]
  },
  {
   "cell_type": "code",
   "execution_count": 25,
   "id": "03ac863e",
   "metadata": {},
   "outputs": [
    {
     "name": "stdout",
     "output_type": "stream",
     "text": [
      "65339000000\n",
      "90488000000\n",
      "107147000000\n",
      "134047000000\n",
      "128249000000\n"
     ]
    }
   ],
   "source": [
    "params['function'] = 'BALANCE_SHEET'\n",
    "r = requests.get(url, params = params)\n",
    "data = r.json()\n",
    "for year in data['annualReports']:\n",
    "    print(year['totalShareholderEquity'])"
   ]
  },
  {
   "cell_type": "code",
   "execution_count": null,
   "id": "e57e009f",
   "metadata": {},
   "outputs": [],
   "source": []
  }
 ],
 "metadata": {
  "kernelspec": {
   "display_name": "Python 3 (ipykernel)",
   "language": "python",
   "name": "python3"
  },
  "language_info": {
   "codemirror_mode": {
    "name": "ipython",
    "version": 3
   },
   "file_extension": ".py",
   "mimetype": "text/x-python",
   "name": "python",
   "nbconvert_exporter": "python",
   "pygments_lexer": "ipython3",
   "version": "3.9.6"
  }
 },
 "nbformat": 4,
 "nbformat_minor": 5
}
